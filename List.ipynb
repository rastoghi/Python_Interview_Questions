{
 "cells": [
  {
   "cell_type": "markdown",
   "id": "fd919ba6-fa2c-462b-89ae-fd1cbf0eade8",
   "metadata": {},
   "source": [
    " # 1. Write a program to find the maximum and minimum elements in a list.(21)"
   ]
  },
  {
   "cell_type": "code",
   "execution_count": 7,
   "id": "8488031b-659f-46e1-9c43-518e6df11a1d",
   "metadata": {},
   "outputs": [
    {
     "name": "stdin",
     "output_type": "stream",
     "text": [
      "Enter the size of the List:-  5\n",
      "Enter the number 12\n",
      "Enter the number 32\n",
      "Enter the number 54\n",
      "Enter the number 65\n",
      "Enter the number 87\n"
     ]
    },
    {
     "name": "stdout",
     "output_type": "stream",
     "text": [
      "['12', '32', '54', '65', '87']\n",
      "Maximum number of the list  87\n",
      "Minimum number of the list  12\n"
     ]
    }
   ],
   "source": [
    "# Take the input from the user\n",
    "\n",
    "size=int(input(\"Enter the size of the List:- \"))\n",
    "ipl=[]\n",
    "for i in range(size):\n",
    "    i = input(\"Enter the number\")\n",
    "    ipl.append(i)\n",
    "print(ipl)\n",
    "\n",
    "\n",
    "#Now find the  maximum and minimum elements in the list. \n",
    "\n",
    "maximum = ipl[0]       # assume first index of list ipl[0] is maximum value in the list\n",
    "minimum = ipl[0]       # assume first index of list ipl[0] is minimum value in the list\n",
    "\n",
    "for item in ipl:                      #Traverse the ipl element in the item variable\n",
    "    if item>maximum:                  #compare value of item element to assumed value of list to the maximum value in list\n",
    "        maximum = item\n",
    "    if item<minimum:                  #compare value of item element to assumed value of list to the minimum value in list\n",
    "        minimum = item\n",
    "\n",
    "\n",
    "print(\"Maximum number of the list \",maximum)\n",
    "print(\"Minimum number of the list \",minimum)\n"
   ]
  },
  {
   "cell_type": "markdown",
   "id": "a23772d4-d7d7-4879-87d5-0f0310556bcb",
   "metadata": {},
   "source": [
    "# 2. Write a program to reverse a list without using built-in functions(22)"
   ]
  },
  {
   "cell_type": "code",
   "execution_count": 34,
   "id": "b2e02bce-18fb-4f99-8446-f8c67e827c25",
   "metadata": {},
   "outputs": [
    {
     "name": "stdin",
     "output_type": "stream",
     "text": [
      "Enter the size of list 5\n",
      "Enter the value in the list 43\n",
      "Enter the value in the list 56\n",
      "Enter the value in the list 76\n",
      "Enter the value in the list 87\n",
      "Enter the value in the list 43\n"
     ]
    },
    {
     "name": "stdout",
     "output_type": "stream",
     "text": [
      "['43', '56', '76', '87', '43']\n",
      "43 87 76 56 43 "
     ]
    }
   ],
   "source": [
    "#Method -1               with using built functions\n",
    "\n",
    "#Take the input from the user\n",
    "\n",
    "size = int(input(\"Enter the size of List.ipynb\")) \n",
    "ipl = []\n",
    "\n",
    "for i in range(size):\n",
    "    i=input(\"Enter the element of the List.ipynb\")\n",
    "    ipl.append(i)       \n",
    "print(\"Before Reverse the list\",ipl)\n",
    "\n",
    "#Reverse the list\n",
    "\n",
    "rev=ipl[::-1]\n",
    "\n",
    "print(\"After Reverse the list\",rev)\n",
    "\n",
    "\n",
    "\n",
    "\n",
    "\n",
    "#Method - 2                 without built in functions\n",
    "#Take the input from the user\n",
    "\n",
    "size=int(input(\"Enter the size of list\"))\n",
    "ipl=[]\n",
    "for i in range(size):\n",
    "    i = input(\"Enter the value in the list\")\n",
    "    ipl.append(i)\n",
    "print(ipl)\n",
    "\n",
    "\n",
    "for item in range(len(ipl)-1,-1,-1):\n",
    "    print(ipl[item],end=\" \")\n",
    "\n",
    "\n",
    "\n",
    "\n"
   ]
  },
  {
   "cell_type": "markdown",
   "id": "6ddb53d7-f071-4fcf-bd0e-ba82adcc811c",
   "metadata": {},
   "source": [
    "# 3. Write a program to sort a list of numbers(23)"
   ]
  },
  {
   "cell_type": "code",
   "execution_count": 29,
   "id": "fc1de30e-667d-45e9-9255-06993f3a01d1",
   "metadata": {},
   "outputs": [
    {
     "name": "stdin",
     "output_type": "stream",
     "text": [
      "Enter the Size of the List 5\n",
      "Enter the value in the List 43\n",
      "Enter the value in the List 98\n",
      "Enter the value in the List 42\n",
      "Enter the value in the List 56\n",
      "Enter the value in the List 77\n"
     ]
    },
    {
     "name": "stdout",
     "output_type": "stream",
     "text": [
      "Original List [43, 98, 42, 56, 77]\n",
      "Ascending order the sort the list [42, 43, 56, 77, 98]\n",
      "Descending order the sort the list [98, 77, 56, 43, 42]\n"
     ]
    }
   ],
   "source": [
    "# Take the input from the users\n",
    "size =int(input(\"Enter the Size of the List\"))\n",
    "\n",
    "list=[]\n",
    "for i in range(size): \n",
    "    i = int(input(\"Enter the value in the List\")) \n",
    "    list.append(i) \n",
    "\n",
    "print(\"Original List\",list)\n",
    "\n",
    "#Sort the number in the list \n",
    "\n",
    "list.sort()                                                  #In     ascending order\n",
    "print(\"Ascending order the sort the list\",list)        \n",
    "\n",
    "list.sort(reverse=True)                                      #In       Descending order\n",
    "print(\"Descending order the sort the list\",list)\n",
    "\n",
    "\n",
    "              \n"
   ]
  },
  {
   "cell_type": "markdown",
   "id": "88419342-7fb9-44de-a0c3-5c3273c48be6",
   "metadata": {},
   "source": [
    "# 4. Write a program to remove duplicates from a list.(24)"
   ]
  },
  {
   "cell_type": "code",
   "execution_count": 19,
   "id": "9c8fe7a6-f253-4a29-96e1-9b352e949247",
   "metadata": {},
   "outputs": [
    {
     "name": "stdin",
     "output_type": "stream",
     "text": [
      "Enter the Size of the List.ipynb 5\n",
      "Enter the value in the List 4\n",
      "Enter the value in the List 4\n",
      "Enter the value in the List 32\n",
      "Enter the value in the List 54\n",
      "Enter the value in the List 55\n"
     ]
    },
    {
     "name": "stdout",
     "output_type": "stream",
     "text": [
      "Original List ['4', '4', '32', '54', '55']\n"
     ]
    },
    {
     "ename": "TypeError",
     "evalue": "'list' object is not callable",
     "output_type": "error",
     "traceback": [
      "\u001b[1;31m---------------------------------------------------------------------------\u001b[0m",
      "\u001b[1;31mTypeError\u001b[0m                                 Traceback (most recent call last)",
      "Cell \u001b[1;32mIn[19], line 18\u001b[0m\n\u001b[0;32m     11\u001b[0m \u001b[38;5;28mprint\u001b[39m(\u001b[38;5;124m\"\u001b[39m\u001b[38;5;124mOriginal List\u001b[39m\u001b[38;5;124m\"\u001b[39m,IPL)\n\u001b[0;32m     16\u001b[0m \u001b[38;5;66;03m# remove duplicates from the list\u001b[39;00m\n\u001b[1;32m---> 18\u001b[0m \u001b[38;5;28mlist\u001b[39m(\u001b[38;5;28mdict\u001b[39m\u001b[38;5;241m.\u001b[39mfromkeys(IPL))\n\u001b[0;32m     20\u001b[0m \u001b[38;5;28mprint\u001b[39m(IPL)\n",
      "\u001b[1;31mTypeError\u001b[0m: 'list' object is not callable"
     ]
    }
   ],
   "source": [
    "#Take the input from the user \n",
    "\n",
    "\n",
    "IPL=[]\n",
    "\n",
    "size=int(input(\"Enter the Size of the List.ipynb\")) \n",
    "\n",
    "for i in range(size): \n",
    "    i=input(\"Enter the value in the List\") \n",
    "    IPL.append(i) \n",
    "print(\"Original List\",IPL)\n",
    "\n",
    "\n",
    "\n",
    "\n",
    "# remove duplicates from the list\n",
    "\n",
    "list(dict.fromkeys(IPL))\n",
    "\n",
    "print(IPL)\n",
    "\n",
    "\n",
    "\n"
   ]
  },
  {
   "cell_type": "markdown",
   "id": "9a3faff1-51d4-4551-b030-4765a6b56221",
   "metadata": {},
   "source": [
    "# 5.Write a program to count the occurrences of an element in a list.(25)"
   ]
  },
  {
   "cell_type": "code",
   "execution_count": 9,
   "id": "f052d6f4-1a11-45e5-ba65-a36613aed1ca",
   "metadata": {},
   "outputs": [
    {
     "name": "stdin",
     "output_type": "stream",
     "text": [
      "Enter the size of the List 5\n",
      "Enter the value in the List 43\n",
      "Enter the value in the List 43\n",
      "Enter the value in the List 12\n",
      "Enter the value in the List 11\n",
      "Enter the value in the List 12\n"
     ]
    },
    {
     "name": "stdout",
     "output_type": "stream",
     "text": [
      "['43', '43', '12', '11', '12']\n"
     ]
    },
    {
     "name": "stdin",
     "output_type": "stream",
     "text": [
      "Enter the no, How many times available for find out 12\n"
     ]
    },
    {
     "name": "stdout",
     "output_type": "stream",
     "text": [
      " How occurances Count:-  2\n"
     ]
    }
   ],
   "source": [
    "# take the input from the User  \n",
    "\n",
    "size =int(input(\"Enter the size of the List\")) \n",
    "IPL=[] \n",
    "for i in range(size): \n",
    "    i=input(\"Enter the value in the List\") \n",
    "    IPL.append(i) \n",
    "print(IPL)\n",
    "\n",
    "#find the occurance in the list \n",
    "x=input(\"Enter the no, How many times available for find out\")\n",
    "count = 0\n",
    "for item in IPL:\n",
    "    if (item==x):\n",
    "        count=count+1\n",
    "print(\" How occurances Count:- \",count)"
   ]
  },
  {
   "cell_type": "markdown",
   "id": "3033beab-ce8b-4153-b577-634c29ddba93",
   "metadata": {},
   "source": [
    "# 6. Write a program to find the sum of all elements in a list. (26)"
   ]
  },
  {
   "cell_type": "code",
   "execution_count": 18,
   "id": "a0fb624b-9af4-41be-8c0a-f0eb17dc1c99",
   "metadata": {},
   "outputs": [
    {
     "name": "stdin",
     "output_type": "stream",
     "text": [
      "Enter the size of the list 5\n",
      "Enter the value in the List 43\n",
      "Enter the value in the List 65\n",
      "Enter the value in the List 76\n",
      "Enter the value in the List 88\n",
      "Enter the value in the List 76\n"
     ]
    },
    {
     "name": "stdout",
     "output_type": "stream",
     "text": [
      "[43, 65, 76, 88, 76]\n",
      "Total sum of all the element in the list 348\n"
     ]
    }
   ],
   "source": [
    "#Take the value from the list\n",
    "\n",
    "IPL=[]\n",
    "size=int(input('Enter the size of the list'))\n",
    "\n",
    "for i in range(size):\n",
    "    i=int(input('Enter the value in the List'))\n",
    "    IPL.append(i) \n",
    "print(IPL)\n",
    "\n",
    "#Sum of all the element of the list. \n",
    "Total_Sum=sum(IPL)\n",
    "print('Total sum of all the element in the list',Total_Sum)\n",
    "\n"
   ]
  },
  {
   "cell_type": "markdown",
   "id": "7aa48329-60bb-4715-b312-60f57f1fb2fd",
   "metadata": {},
   "source": [
    "# 7. Write a program to find the second largest number in a list.(27)"
   ]
  },
  {
   "cell_type": "code",
   "execution_count": 37,
   "id": "291ab558-ba2d-4adc-a919-c22f7f02433e",
   "metadata": {},
   "outputs": [
    {
     "name": "stdin",
     "output_type": "stream",
     "text": [
      "Enter the size of the List.ipynb 5\n",
      "Enter the value in the list 43\n",
      "Enter the value in the list 99\n",
      "Enter the value in the list 23\n",
      "Enter the value in the list 54\n",
      "Enter the value in the list 65\n"
     ]
    },
    {
     "name": "stdout",
     "output_type": "stream",
     "text": [
      "[43, 99, 23, 54, 65]\n",
      "Descending order of list [99, 65, 54, 43, 23]\n",
      "Second largest no of list 65\n"
     ]
    }
   ],
   "source": [
    "# Take the input from the user. \n",
    "size=int(input('Enter the size of the List.ipynb')) \n",
    "IPL=[] \n",
    "for i in range(size):\n",
    "    i=int(input('Enter the value in the list')) \n",
    "    IPL.append(i) \n",
    "print(IPL)\n",
    "\n",
    "\n",
    "\n",
    "#sort the list and find the second largest number of the list \n",
    "IPL.sort(reverse=True)\n",
    "print('Descending order of list',IPL) \n",
    "print(\"Second largest no of list\",IPL[1])   # second largest no of the list\n"
   ]
  },
  {
   "cell_type": "markdown",
   "id": "c9a6cc50-719a-49b2-927c-c8e602e2406a",
   "metadata": {},
   "source": [
    "# 8.Write a program to merge two sorted lists.(28)\n"
   ]
  },
  {
   "cell_type": "code",
   "execution_count": 5,
   "id": "8622c27d-0ef8-479f-a871-6608c650d7a9",
   "metadata": {},
   "outputs": [
    {
     "name": "stdin",
     "output_type": "stream",
     "text": [
      "Enter the size of the list1 5\n",
      "Enter the value in the list1 43\n",
      "Enter the value in the list1 54\n",
      "Enter the value in the list1 55\n",
      "Enter the value in the list1 34\n",
      "Enter the value in the list1 77\n"
     ]
    },
    {
     "name": "stdout",
     "output_type": "stream",
     "text": [
      "[43, 54, 55, 34, 77]\n"
     ]
    },
    {
     "name": "stdin",
     "output_type": "stream",
     "text": [
      "Enter the size of the list2 4\n",
      "Enter the value in the list2 55\n",
      "Enter the value in the list2 76\n",
      "Enter the value in the list2 99\n",
      "Enter the value in the list2 23\n"
     ]
    },
    {
     "name": "stdout",
     "output_type": "stream",
     "text": [
      "[55, 76, 99, 23]\n",
      "[55, 76, 99, 23, 43, 54, 55, 34, 77]\n"
     ]
    }
   ],
   "source": [
    "# Take the input from the user \n",
    "\n",
    "#List-1\n",
    "size=int(input('Enter the size of the list1')) \n",
    "IPL=[]\n",
    "for i in range(size): \n",
    "    i=int(input(\"Enter the value in the list1\"))\n",
    "    IPL.append(i)\n",
    "print(IPL)\n",
    "\n",
    "\n",
    "#List-2 \n",
    "size1=int(input('Enter the size of the list2')) \n",
    "IPL1=[]\n",
    "for i in range(size1): \n",
    "    i=int(input(\"Enter the value in the list2\"))\n",
    "    IPL1.append(i)\n",
    "print(IPL1)\n",
    "\n",
    "#Merge the two list1 and list2\n",
    "IPL1.extend(IPL)                  # extend are use for the merge the two list\n",
    "print(IPL1) "
   ]
  },
  {
   "cell_type": "markdown",
   "id": "c8bc3ea1-a6d4-4a47-baf2-f23a0457de22",
   "metadata": {},
   "source": [
    "# 9.Write a program to check a list is empty.(29)"
   ]
  },
  {
   "cell_type": "code",
   "execution_count": 5,
   "id": "22aebabd-59a0-47b4-8bc2-bbed41621187",
   "metadata": {},
   "outputs": [
    {
     "name": "stdout",
     "output_type": "stream",
     "text": [
      "list is not Empty\n"
     ]
    }
   ],
   "source": [
    "list=[1,2] \n",
    "if list==[]:\n",
    "    print(\"list is Empty\")\n",
    "else:\n",
    "    print('list is not Empty')"
   ]
  },
  {
   "cell_type": "markdown",
   "id": "4fe54389-af0a-4331-a2ae-38ea1df50baa",
   "metadata": {},
   "source": [
    "# 10. Write a program to concatenate two lists.(30)"
   ]
  },
  {
   "cell_type": "code",
   "execution_count": 4,
   "id": "1a4425ee-9f15-41e7-97b5-010fda037f37",
   "metadata": {},
   "outputs": [
    {
     "name": "stdin",
     "output_type": "stream",
     "text": [
      "Enter the size of the list 5\n",
      "Enter the value in the list 43\n",
      "Enter the value in the list 76\n",
      "Enter the value in the list 88\n",
      "Enter the value in the list 34\n",
      "Enter the value in the list 65\n"
     ]
    },
    {
     "name": "stdout",
     "output_type": "stream",
     "text": [
      "[43, 76, 88, 34, 65]\n"
     ]
    },
    {
     "name": "stdin",
     "output_type": "stream",
     "text": [
      "Enter the size of the List.ipynb 6\n",
      "Enter the value in the List 43\n",
      "Enter the value in the List 77\n",
      "Enter the value in the List 98\n",
      "Enter the value in the List 32\n",
      "Enter the value in the List 54\n",
      "Enter the value in the List 23\n"
     ]
    },
    {
     "name": "stdout",
     "output_type": "stream",
     "text": [
      "[43, 77, 98, 32, 54, 23]\n",
      "New concantenated [43, 77, 98, 32, 54, 23, 43, 76, 88, 34, 65]\n"
     ]
    }
   ],
   "source": [
    "#take the input from the user \n",
    "\n",
    "IPL=[]\n",
    "size=int(input('Enter the size of the list'))\n",
    "for i in range(size):\n",
    "    i=int(input('Enter the value in the list')) \n",
    "    IPL.append(i) \n",
    "print(IPL)\n",
    "\n",
    "\n",
    "# take the input from the user \n",
    "\n",
    "IPL1=[]\n",
    "size=int(input('Enter the size of the List.ipynb')) \n",
    "for i in range(size): \n",
    "    i=int(input('Enter the value in the List')) \n",
    "    IPL1.append(i) \n",
    "print(IPL1)\n",
    "\n",
    "\n",
    "#concatenate the two list \n",
    "\n",
    "IPL1.extend(IPL) \n",
    "print(\"New concantenated\",IPL1)"
   ]
  },
  {
   "cell_type": "markdown",
   "id": "6a4d8002-41fd-4267-b284-1cf800154907",
   "metadata": {},
   "source": [
    "# 11.  Write a program to check if an element exists in a list(31) "
   ]
  },
  {
   "cell_type": "code",
   "execution_count": 1,
   "id": "cf71f8b7-8dfb-42c4-b737-89316c744fde",
   "metadata": {},
   "outputs": [
    {
     "name": "stdin",
     "output_type": "stream",
     "text": [
      "Enter the size of the list  5\n",
      "Enter the value in the list 43\n",
      "Enter the value in the list 55\n",
      "Enter the value in the list 06\n",
      "Enter the value in the list 60\n",
      "Enter the value in the list 43\n"
     ]
    },
    {
     "name": "stdout",
     "output_type": "stream",
     "text": [
      "[43, 55, 6, 60, 43]\n"
     ]
    },
    {
     "name": "stdin",
     "output_type": "stream",
     "text": [
      "Enter the no. which you want to check it exists or not exists 43\n"
     ]
    },
    {
     "name": "stdout",
     "output_type": "stream",
     "text": [
      "Element Exists in the List\n"
     ]
    }
   ],
   "source": [
    "# take the input from the user in the list \n",
    "IPL = [ ]\n",
    "size=int(input('Enter the size of the list ')) \n",
    "for i in range(size): \n",
    "    i=int(input('Enter the value in the list')) \n",
    "    IPL.append(i) \n",
    "print(IPL)\n",
    "\n",
    "\n",
    "#check the value exists or not exists \n",
    "item =int(input('Enter the no. which you want to check it exists or not exists'))\n",
    "if(IPL,item):                                              #under the if pass the list name and value you want to check\n",
    "    print('Element Exists in the List') \n",
    "else:\n",
    "    print('Element does not exists in the List') \n",
    "        \n"
   ]
  },
  {
   "cell_type": "markdown",
   "id": "9ddebcfb-fbff-4b82-b44e-7dd078ccbc5f",
   "metadata": {},
   "source": [
    "# 12. Write a program to split a list into even and odd numbers.(32)"
   ]
  },
  {
   "cell_type": "code",
   "execution_count": 16,
   "id": "7cfa3c4e-8487-4402-b603-7158d7a17af6",
   "metadata": {},
   "outputs": [
    {
     "name": "stdin",
     "output_type": "stream",
     "text": [
      "Enter the size of the list  5\n",
      "Enter the value in the list  43\n",
      "Enter the value in the list  54\n",
      "Enter the value in the list  66\n",
      "Enter the value in the list  76\n",
      "Enter the value in the list  87\n"
     ]
    },
    {
     "name": "stdout",
     "output_type": "stream",
     "text": [
      "[43, 54, 66, 76, 87]\n",
      "print Even list [54, 66, 76]\n",
      "print Odd list [43, 87]\n"
     ]
    }
   ],
   "source": [
    "# define function and check it Odd no or Even no\n",
    "def split(IPL):\n",
    "    even_lst=[]\n",
    "    odd_lst=[]\n",
    "    for k in IPL:\n",
    "        if(k%2==0):\n",
    "            even_lst.append(k) \n",
    "   \n",
    "        else:\n",
    "            odd_lst.append(k) \n",
    "    print('print Even list',even_lst)\n",
    "    print('print Odd list',odd_lst) \n",
    "\n",
    "\n",
    "\n",
    "#Take the input from the user \n",
    "IPL=[ ]\n",
    "size =int(input('Enter the size of the list ')) \n",
    "for i in range(size):\n",
    "    i=int(input('Enter the value in the list '))\n",
    "    IPL.append(i) \n",
    "print(IPL)  \n",
    "\n",
    "\n",
    "\n",
    "#call the functions \n",
    "\n",
    "split(IPL)\n",
    "\n",
    "\n",
    "\n"
   ]
  },
  {
   "cell_type": "markdown",
   "id": "4bf05ef1-23b9-4617-a0eb-a6a076358cec",
   "metadata": {},
   "source": [
    "# 13.Write a program to find the product of elements in a list. (33)"
   ]
  },
  {
   "cell_type": "code",
   "execution_count": 11,
   "id": "5de8a5f4-fdc6-4d0c-ac9f-c91fb9e37854",
   "metadata": {},
   "outputs": [
    {
     "name": "stdin",
     "output_type": "stream",
     "text": [
      "Enter the Size of the list 5\n",
      "Enter the value in the List 1\n",
      "Enter the value in the List 2\n",
      "Enter the value in the List 3\n",
      "Enter the value in the List 4\n",
      "Enter the value in the List 5\n"
     ]
    },
    {
     "name": "stdout",
     "output_type": "stream",
     "text": [
      "List [1, 2, 3, 4, 5]\n",
      "value of multiplication 120\n"
     ]
    }
   ],
   "source": [
    "# Take the input from the user \n",
    "import math\n",
    "IPL=[] \n",
    "size=int(input('Enter the Size of the list'))\n",
    "for i in range(size):\n",
    "    i=int(input('Enter the value in the List')) \n",
    "    IPL.append(i) \n",
    "print('List',IPL)\n",
    "\n",
    "#Now Multiply the items of the list \n",
    "\n",
    "result=math.prod(IPL) \n",
    "print('value of multiplication',result)\n",
    "\n",
    "\n"
   ]
  },
  {
   "cell_type": "markdown",
   "id": "605f20bc-c8cf-4bfd-b0da-7387d70176df",
   "metadata": {},
   "source": [
    "# 14. Write a program to count the number of even and odd numbers in a list(34)"
   ]
  },
  {
   "cell_type": "code",
   "execution_count": 21,
   "id": "dcfc2c43-d011-4372-878d-b16830ff9f38",
   "metadata": {},
   "outputs": [
    {
     "name": "stdin",
     "output_type": "stream",
     "text": [
      "Enter the size of the list 5\n",
      "Enter the value in the list 12\n",
      "Enter the value in the list 14\n",
      "Enter the value in the list 13\n",
      "Enter the value in the list 14\n",
      "Enter the value in the list 16\n"
     ]
    },
    {
     "name": "stdout",
     "output_type": "stream",
     "text": [
      "[12, 14, 13, 14, 16]\n",
      "count Even no. in list:-  4\n",
      "count Odd no. in list:-  1\n"
     ]
    }
   ],
   "source": [
    "#Take the input from  the list \n",
    "IPL = [] \n",
    "size=int(input('Enter the size of the list')) \n",
    "for i in range(size):\n",
    "    i=int(input('Enter the value in the list'))\n",
    "    IPL.append(i) \n",
    "print(IPL) \n",
    "\n",
    "#Count no of Odd and Even no. in the List \n",
    "count_even = 0 \n",
    "count_odd = 0\n",
    "for K in IPL: \n",
    "    if K%2==0:\n",
    "        count_even+=1 \n",
    "    else:\n",
    "        count_odd+=1\n",
    "print('count Even no. in list:- ',count_even)\n",
    "print('count Odd no. in list:- ',count_odd) \n"
   ]
  },
  {
   "cell_type": "markdown",
   "id": "eaf61149-597b-4a72-9215-2367085289b4",
   "metadata": {},
   "source": [
    "# 15. Write a program to flatten a nested list. (35)"
   ]
  },
  {
   "cell_type": "code",
   "execution_count": 24,
   "id": "1a26be13-dc60-40f8-bcbb-e564d8f455ab",
   "metadata": {},
   "outputs": [
    {
     "name": "stdout",
     "output_type": "stream",
     "text": [
      "[11, 33, 22, 55, 11, 77, 88]\n"
     ]
    }
   ],
   "source": [
    "import numpy as np\n",
    " \n",
    "lst = [[11, 33], [22, 55], [11], [77, 88]]\n",
    " \n",
    "new = list(np.concatenate(lst))\n",
    " \n",
    "print(new)"
   ]
  },
  {
   "cell_type": "markdown",
   "id": "99a70820-790f-4047-9b0e-654712652d6a",
   "metadata": {},
   "source": [
    "# 16 Write a program to rotate a list by a specified number of positions (36)"
   ]
  },
  {
   "cell_type": "code",
   "execution_count": null,
   "id": "9e71d694-0df6-4aa8-bad2-6f4a173c93fe",
   "metadata": {},
   "outputs": [],
   "source": []
  },
  {
   "cell_type": "code",
   "execution_count": null,
   "id": "c8eede65-a8cf-463e-89cf-45c4c672ebea",
   "metadata": {},
   "outputs": [],
   "source": []
  },
  {
   "cell_type": "markdown",
   "id": "7b69e8d6-235b-42ff-967e-b8e5b763ae53",
   "metadata": {},
   "source": [
    "# 17 Write a program to remove all occurrences of a value from a list. (37)"
   ]
  },
  {
   "cell_type": "code",
   "execution_count": 1,
   "id": "720ffa2a-1db3-4c95-af3a-22d43eedc7ee",
   "metadata": {},
   "outputs": [
    {
     "name": "stdin",
     "output_type": "stream",
     "text": [
      "Enter the size of the list 5\n",
      "Enter the value of the list 43\n",
      "Enter the value of the list 22\n",
      "Enter the value of the list 55\n",
      "Enter the value of the list 22\n",
      "Enter the value of the list 33\n"
     ]
    },
    {
     "name": "stdout",
     "output_type": "stream",
     "text": [
      "Parents List [43, 22, 55, 22, 33]\n"
     ]
    },
    {
     "name": "stdin",
     "output_type": "stream",
     "text": [
      "Enter the those value you want to remove it 22\n"
     ]
    },
    {
     "name": "stdout",
     "output_type": "stream",
     "text": [
      "[43, 55, 33]\n"
     ]
    }
   ],
   "source": [
    "# Take the input from the Users \n",
    "IPL =[ ]\n",
    "size = int(input('Enter the size of the list')) \n",
    "\n",
    "for i in range(size): \n",
    "    i=int(input('Enter the value of the list'))\n",
    "    IPL.append(i) \n",
    "print('Parents List',IPL) \n",
    "\n",
    "\n",
    "#  Remove the all occurance value from the list \n",
    "value= int(input('Enter the those value you want to remove it'))\n",
    "while value in IPL:\n",
    "    IPL.remove(value)\n",
    "\n",
    "print(IPL)\n"
   ]
  },
  {
   "cell_type": "markdown",
   "id": "f42ec5a4-307d-4d88-979d-bf27ef4ddd81",
   "metadata": {},
   "source": [
    "# 18.   Write a program to find the common elements between two lists(38)"
   ]
  },
  {
   "cell_type": "code",
   "execution_count": 1,
   "id": "614cf355-ffee-4b96-9cbb-1dc08f8a23a9",
   "metadata": {},
   "outputs": [
    {
     "name": "stdin",
     "output_type": "stream",
     "text": [
      "Enter the size of the list 5\n",
      "Enter the value in the list 43\n",
      "Enter the value in the list 67\n",
      "Enter the value in the list 89\n",
      "Enter the value in the list 09\n",
      "Enter the value in the list 98\n"
     ]
    },
    {
     "name": "stdout",
     "output_type": "stream",
     "text": [
      "[43, 67, 89, 9, 98]\n"
     ]
    },
    {
     "name": "stdin",
     "output_type": "stream",
     "text": [
      "Enter the size of the list 5\n",
      "Enter the value in the list 43\n",
      "Enter the value in the list 67\n",
      "Enter the value in the list 90\n",
      "Enter the value in the list 32\n",
      "Enter the value in the list 34\n"
     ]
    },
    {
     "name": "stdout",
     "output_type": "stream",
     "text": [
      "[43, 67, 90, 32, 34]\n",
      "[43, 67]\n"
     ]
    }
   ],
   "source": [
    "#Take the input from the Users in IPL1\n",
    "IPL1 = []\n",
    "size=int(input('Enter the size of the list')) \n",
    "for i in range(size):\n",
    "    i=int(input('Enter the value in the list'))\n",
    "    IPL1.append(i) \n",
    "print(IPL1) \n",
    "\n",
    "#Take the input from the Users in IPL2\n",
    "IPL2 = []\n",
    "size=int(input('Enter the size of the list')) \n",
    "for i in range(size):\n",
    "    i=int(input('Enter the value in the list'))\n",
    "    IPL2.append(i) \n",
    "print(IPL2) \n",
    "\n",
    "# find the common elements between two lists\n",
    "z=[]\n",
    "for k in IPL1:\n",
    "    for j in IPL2: \n",
    "        if k==j: \n",
    "            z.append(k)\n",
    "            \n",
    "print('updated list',z)\n",
    "\n",
    "\n",
    "\n",
    "    "
   ]
  },
  {
   "cell_type": "markdown",
   "id": "b613c295-64b2-4e06-ba74-b60f0d8e9c7f",
   "metadata": {},
   "source": [
    "# 19. Write a program to split a list into two halves (39)"
   ]
  },
  {
   "cell_type": "code",
   "execution_count": 2,
   "id": "dc5f5422-989c-4a4e-9d29-2090704d0f96",
   "metadata": {},
   "outputs": [
    {
     "name": "stdin",
     "output_type": "stream",
     "text": [
      "Enter the size of the list 8\n",
      "Enter the value in the list 43\n",
      "Enter the value in the list 56\n",
      "Enter the value in the list 78\n",
      "Enter the value in the list 90\n",
      "Enter the value in the list 12\n",
      "Enter the value in the list 34\n",
      "Enter the value in the list 56\n",
      "Enter the value in the list 76\n"
     ]
    },
    {
     "name": "stdout",
     "output_type": "stream",
     "text": [
      "Parent List [43, 56, 78, 90, 12, 34, 56, 76]\n",
      "First Half [43, 56, 78, 90]\n",
      "Second Half [12, 34, 56, 76]\n"
     ]
    }
   ],
   "source": [
    "# Take the input from the users \n",
    "size=int(input('Enter the size of the list')) \n",
    "IPL=[ ]\n",
    "for i in range(size):\n",
    "    i=int(input('Enter the value in the list'))\n",
    "    IPL.append(i) \n",
    "print('Parent List',IPL) \n",
    "\n",
    "#split the list in Two Slaves \n",
    "def split_list(IPL):\n",
    "    middle=len(IPL) // 2\n",
    "    first_half=[ ]\n",
    "    secd_half= [ ] \n",
    "    for i in range(middle):\n",
    "        first_half.append(IPL[i])\n",
    "    for i in range(middle,len(IPL)):\n",
    "        secd_half.append(IPL[i])\n",
    "    print('First Half',first_half) \n",
    "    print('Second Half',secd_half) \n",
    "    \n",
    "\n",
    "#call the functions \n",
    "split_list(IPL)\n"
   ]
  },
  {
   "cell_type": "markdown",
   "id": "dfa4fc8a-3679-4e7f-954d-19fe72d060ee",
   "metadata": {},
   "source": [
    "# 20 Write a program to find the cumulative sum of elements in a list(40)"
   ]
  },
  {
   "cell_type": "code",
   "execution_count": null,
   "id": "680c9040-2975-46e3-bfc3-e3c190e5fe3b",
   "metadata": {},
   "outputs": [],
   "source": [
    "# Take the input from the user \n",
    "size =int(input('Enter the size of the list')) \n",
    "IPL = [ ]\n",
    "for i in range(size):\n",
    "    i=int(input('Enter the value in the list'))\n",
    "    IPL.append(i)\n",
    "print(IPL) \n",
    "\n",
    "\n",
    "\n",
    "#cumulative sum of the List \n",
    "cum_lst =[ ]\n",
    "y=0\n",
    "for k in range(0,len(IPL)): \n",
    "    y=y+IPL[k]\n",
    "    cum_lst.append(y)\n",
    "print(cum_lst)"
   ]
  },
  {
   "cell_type": "markdown",
   "id": "e15d0f78-efc9-4d41-b070-8e67bcf88213",
   "metadata": {},
   "source": [
    "# 21.Write a program to find the intersection of two lists(41)"
   ]
  },
  {
   "cell_type": "code",
   "execution_count": 15,
   "id": "ea5fd83e-01fe-4ec8-9e52-18db2d9848b9",
   "metadata": {},
   "outputs": [],
   "source": [
    "# Find the common Element between the Two List(Intersection of the two List)\n",
    "\n",
    "\n",
    "\n",
    "#Take the input from the Users in IPL1\n",
    "IPL1 = []\n",
    "size=int(input('Enter the size of the list')) \n",
    "for i in range(size):\n",
    "    i=int(input('Enter the value in the list'))\n",
    "    IPL1.append(i) \n",
    "print(IPL1) \n",
    "\n",
    "\n",
    "\n",
    "\n",
    "#Take the input from the Users in IPL2\n",
    "IPL2 = []\n",
    "size=int(input('Enter the size of the list')) \n",
    "for i in range(size):\n",
    "    i=int(input('Enter the value in the list'))\n",
    "    IPL2.append(i) \n",
    "print(IPL2) \n",
    "\n",
    "# find the common elements between two lists\n",
    "z=[]\n",
    "for k in IPL1:\n",
    "    for j in IPL2: \n",
    "        if k==j: \n",
    "            z.append(k)\n",
    "            \n",
    "print('updated list',z)\n"
   ]
  },
  {
   "cell_type": "code",
   "execution_count": null,
   "id": "89c15737-94a7-4131-99fe-ca829760b399",
   "metadata": {},
   "outputs": [],
   "source": []
  }
 ],
 "metadata": {
  "kernelspec": {
   "display_name": "Python 3 (ipykernel)",
   "language": "python",
   "name": "python3"
  },
  "language_info": {
   "codemirror_mode": {
    "name": "ipython",
    "version": 3
   },
   "file_extension": ".py",
   "mimetype": "text/x-python",
   "name": "python",
   "nbconvert_exporter": "python",
   "pygments_lexer": "ipython3",
   "version": "3.12.4"
  }
 },
 "nbformat": 4,
 "nbformat_minor": 5
}
